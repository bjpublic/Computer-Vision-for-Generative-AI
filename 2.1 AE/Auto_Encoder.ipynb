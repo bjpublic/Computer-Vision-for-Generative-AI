{
 "cells": [
  {
   "cell_type": "code",
   "execution_count": 1,
   "id": "bcc56a0a",
   "metadata": {},
   "outputs": [],
   "source": [
    "import os\n",
    "import torch\n",
    "from torch import nn\n",
    "from torch.autograd import Variable\n",
    "from torch.utils.data import DataLoader\n",
    "from torchvision import transforms\n",
    "from torchvision.datasets import MNIST\n",
    "from torchvision.utils import save_image\n",
    "\n",
    "if not os.path.exists('./AE_img'):\n",
    "    os.mkdir('./AE_img')"
   ]
  },
  {
   "cell_type": "code",
   "execution_count": 2,
   "id": "2b9de687",
   "metadata": {},
   "outputs": [],
   "source": [
    "def normalization(tensor, min_value, max_value):\n",
    "    min_tensor = tensor.min()\n",
    "    tensor = (tensor - min_tensor)\n",
    "    max_tensor = tensor.max()\n",
    "    tensor = tensor / max_tensor\n",
    "    tensor = tensor * (max_value - min_value) + min_value\n",
    "    return tensor\n",
    "\n",
    "def value_round(tensor):\n",
    "    return torch.round(tensor)\n",
    "\n",
    "def to_img(x):\n",
    "    x = x.view(x.size(0), 1, 28, 28)\n",
    "    return x\n",
    "\n",
    "img_transform = transforms.Compose([\n",
    "    transforms.ToTensor(),\n",
    "    transforms.Lambda(lambda tensor:normalization(tensor, 0, 1)),\n",
    "    transforms.Lambda(lambda tensor:value_round(tensor))\n",
    "])\n",
    "batch_size = 128\n",
    "\n",
    "dataset = MNIST('./MNIST_dataset', transform=img_transform, download=True)\n",
    "dataloader = DataLoader(dataset, batch_size=batch_size, shuffle=True)"
   ]
  },
  {
   "cell_type": "code",
   "execution_count": 3,
   "id": "91a1bd55",
   "metadata": {},
   "outputs": [],
   "source": [
    "class autoencoder(nn.Module):\n",
    "    def __init__(self):\n",
    "        super(autoencoder, self).__init__()\n",
    "        \n",
    "        self.encoder = nn.Sequential(\n",
    "            nn.Linear(28 * 28, 256),\n",
    "            nn.ReLU(True),\n",
    "            nn.Linear(256, 64),\n",
    "            nn.ReLU(True))\n",
    "        \n",
    "        self.decoder = nn.Sequential(\n",
    "            nn.Linear(64, 256),\n",
    "            nn.ReLU(True),\n",
    "            nn.Linear(256, 28 * 28),\n",
    "            nn.Sigmoid())\n",
    "\n",
    "    def forward(self, x):\n",
    "        x = self.encoder(x)\n",
    "        x = self.decoder(x)\n",
    "        return x"
   ]
  },
  {
   "cell_type": "code",
   "execution_count": 5,
   "id": "0ae2ac29",
   "metadata": {},
   "outputs": [
    {
     "name": "stdout",
     "output_type": "stream",
     "text": [
      "----------------------------------------------------------------\n",
      "        Layer (type)               Output Shape         Param #\n",
      "================================================================\n",
      "            Linear-1              [-1, 96, 256]         200,960\n",
      "              ReLU-2              [-1, 96, 256]               0\n",
      "            Linear-3               [-1, 96, 64]          16,448\n",
      "              ReLU-4               [-1, 96, 64]               0\n",
      "            Linear-5              [-1, 96, 256]          16,640\n",
      "              ReLU-6              [-1, 96, 256]               0\n",
      "            Linear-7              [-1, 96, 784]         201,488\n",
      "           Sigmoid-8              [-1, 96, 784]               0\n",
      "================================================================\n",
      "Total params: 435,536\n",
      "Trainable params: 435,536\n",
      "Non-trainable params: 0\n",
      "----------------------------------------------------------------\n",
      "Input size (MB): 0.29\n",
      "Forward/backward pass size (MB): 1.99\n",
      "Params size (MB): 1.66\n",
      "Estimated Total Size (MB): 3.94\n",
      "----------------------------------------------------------------\n"
     ]
    }
   ],
   "source": [
    "import torchsummary\n",
    "model = autoencoder().cuda()\n",
    "torchsummary.summary(model,(96,784))"
   ]
  },
  {
   "cell_type": "code",
   "execution_count": 6,
   "id": "37839867",
   "metadata": {},
   "outputs": [
    {
     "name": "stdout",
     "output_type": "stream",
     "text": [
      "epoch [1/50], loss:0.0333\n",
      "epoch [11/50], loss:0.0158\n",
      "epoch [21/50], loss:0.0125\n",
      "epoch [31/50], loss:0.0116\n",
      "epoch [41/50], loss:0.0114\n"
     ]
    }
   ],
   "source": [
    "learning_rate, num_epochs = 1e-3, 50\n",
    "optimizer = torch.optim.Adam(model.parameters(),lr=learning_rate, weight_decay=1e-5)\n",
    "for epoch in range(num_epochs):\n",
    "    for data in dataloader:\n",
    "        img, _ = data\n",
    "        img = img.view(img.size(0), -1)\n",
    "        img = Variable(img).cuda()\n",
    "        \n",
    "        output = model(img)\n",
    "        MSE_loss = nn.MSELoss()(output, img)\n",
    "        \n",
    "        optimizer.zero_grad()\n",
    "        MSE_loss.backward()\n",
    "        optimizer.step()\n",
    "        \n",
    "    if epoch % 10 == 0 or epoch == 49 :\n",
    "        print('epoch [{}/{}], loss:{:.4f}'.format(epoch + 1, num_epochs, MSE_loss.item()))\n",
    "        \n",
    "        x_gt = to_img(img.cpu().data)\n",
    "        x_generated = to_img(output.cpu().data)\n",
    "        \n",
    "        save_image(x_gt, './AE_img/ground_truth_{}.png'.format(epoch))\n",
    "        save_image(x_generated, './AE_img/generated_x{}.png'.format(epoch))\n",
    "\n",
    "torch.save(model.state_dict(), './auto_encoder.pth')"
   ]
  },
  {
   "cell_type": "code",
   "execution_count": null,
   "id": "f830dd60",
   "metadata": {},
   "outputs": [],
   "source": []
  }
 ],
 "metadata": {
  "kernelspec": {
   "display_name": "vision1",
   "language": "python",
   "name": "vision_1"
  },
  "language_info": {
   "codemirror_mode": {
    "name": "ipython",
    "version": 3
   },
   "file_extension": ".py",
   "mimetype": "text/x-python",
   "name": "python",
   "nbconvert_exporter": "python",
   "pygments_lexer": "ipython3",
   "version": "3.11.5"
  }
 },
 "nbformat": 4,
 "nbformat_minor": 5
}
