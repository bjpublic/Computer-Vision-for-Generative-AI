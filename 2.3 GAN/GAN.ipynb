{
 "cells": [
  {
   "cell_type": "code",
   "execution_count": 5,
   "id": "2f8441ac",
   "metadata": {},
   "outputs": [],
   "source": [
    "import os\n",
    "import numpy as np\n",
    "import math\n",
    "import torchvision.transforms as transforms\n",
    "from torchvision.utils import save_image\n",
    "from torch.utils.data import DataLoader\n",
    "from torchvision import datasets\n",
    "from torch.autograd import Variable\n",
    "import torch.nn as nn\n",
    "import torch.nn.functional as F\n",
    "import torch"
   ]
  },
  {
   "cell_type": "code",
   "execution_count": 6,
   "id": "5276a777",
   "metadata": {},
   "outputs": [
    {
     "name": "stdout",
     "output_type": "stream",
     "text": [
      "Train on GPU \n",
      "CUDA is available\n"
     ]
    }
   ],
   "source": [
    "epochs, batch_size  = 100, 64\n",
    "lr, b1, b2 = 2e-4, 0.5, 0.999\n",
    "latent_dim = 100\n",
    "img_size = 28\n",
    "channels = 1\n",
    "img_shape = (channels, img_size, img_size)\n",
    "if torch.cuda.is_available(): \n",
    "    print(\"Train on GPU \\nCUDA is available\")\n",
    "    cuda = True \n",
    "else:\n",
    "    print(\"Train on the CPU \\nCUDA is not available\")\n",
    "    cuda = False\n"
   ]
  },
  {
   "cell_type": "code",
   "execution_count": 7,
   "id": "07891451",
   "metadata": {},
   "outputs": [],
   "source": [
    "os.makedirs(\"data/mnist\", exist_ok=True)\n",
    "dataloader = torch.utils.data.DataLoader(\n",
    "    datasets.MNIST(\n",
    "        \"data/mnist\",\n",
    "        train=True,\n",
    "        download=True,\n",
    "        transform=transforms.Compose([\n",
    "            transforms.Resize(img_size),\n",
    "            transforms.ToTensor(),\n",
    "            transforms.Normalize([0.5], [0.5])]\n",
    "        ),\n",
    "    ),\n",
    "    batch_size=batch_size,\n",
    "    shuffle=True,\n",
    ")"
   ]
  },
  {
   "cell_type": "code",
   "execution_count": 8,
   "id": "a27ac7c3",
   "metadata": {},
   "outputs": [],
   "source": [
    "class Generator(nn.Module):\n",
    "    def __init__(self):\n",
    "        super(Generator, self).__init__()\n",
    "\n",
    "        def block(in_feat, out_feat, normalize=True):\n",
    "            layers = [nn.Linear(in_feat, out_feat)]\n",
    "            if normalize:\n",
    "                layers.append(nn.BatchNorm1d(out_feat, 0.8))\n",
    "            layers.append(nn.LeakyReLU(0.2, inplace=True))\n",
    "            return layers\n",
    "\n",
    "        self.model = nn.Sequential(\n",
    "            *block(latent_dim, 128, normalize=False),\n",
    "            *block(128, 256),\n",
    "            *block(256, 512),\n",
    "            *block(512, 1024),\n",
    "            nn.Linear(1024, int(np.prod(img_shape))),\n",
    "            nn.Tanh()\n",
    "        )\n",
    "\n",
    "    def forward(self, z):\n",
    "        img = self.model(z)\n",
    "        img = img.view(img.shape[0], *img_shape)\n",
    "        return img"
   ]
  },
  {
   "cell_type": "code",
   "execution_count": 9,
   "id": "69037800",
   "metadata": {},
   "outputs": [],
   "source": [
    "class Discriminator(nn.Module):\n",
    "    def __init__(self):\n",
    "        super(Discriminator, self).__init__()\n",
    "\n",
    "        self.model = nn.Sequential(\n",
    "            nn.Linear(int(np.prod(img_shape)), 512),\n",
    "            nn.LeakyReLU(0.2, inplace=True),\n",
    "            nn.Linear(512, 256),\n",
    "            nn.LeakyReLU(0.2, inplace=True),\n",
    "            nn.Linear(256, 1),\n",
    "            nn.Sigmoid(),\n",
    "        )\n",
    "\n",
    "    def forward(self, img):\n",
    "        flat_img = img.view(img.size(0), -1)\n",
    "        pred = self.model(flat_img)\n",
    "        return pred"
   ]
  },
  {
   "cell_type": "code",
   "execution_count": 10,
   "id": "d3a49317",
   "metadata": {},
   "outputs": [],
   "source": [
    "G = Generator()\n",
    "D = Discriminator()\n",
    "adversarial_loss = torch.nn.BCELoss()\n",
    "\n",
    "if cuda:\n",
    "    G.cuda()\n",
    "    D.cuda()\n",
    "    adversarial_loss.cuda()"
   ]
  },
  {
   "cell_type": "code",
   "execution_count": 10,
   "id": "4d2badc7",
   "metadata": {},
   "outputs": [
    {
     "name": "stdout",
     "output_type": "stream",
     "text": [
      "[Epoch 0/2] [D loss: 0.469341] [G loss: 1.281611]\n",
      "[Epoch 1/2] [D loss: 0.563897] [G loss: 1.102454]\n"
     ]
    }
   ],
   "source": [
    "optimizer_G = torch.optim.Adam(G.parameters(), lr=lr, betas=(b1, b2))\n",
    "optimizer_D = torch.optim.Adam(D.parameters(), lr=lr, betas=(b1, b2))\n",
    "Tensor = torch.cuda.FloatTensor if cuda else torch.FloatTensor\n",
    "os.makedirs(\"GAN_results\", exist_ok=True)\n",
    "\n",
    "for epoch in range(epochs):\n",
    "    for i, (imgs, _) in enumerate(dataloader):\n",
    "        real = Variable(Tensor(imgs.size(0), 1).fill_(1.0),\n",
    "                        requires_grad=False)\n",
    "        fake = Variable(Tensor(imgs.size(0), 1).fill_(0.0),\n",
    "                        requires_grad=False)\n",
    "\n",
    "        real_imgs = Variable(imgs.type(Tensor))\n",
    "\n",
    "        ## Train Generator ##\n",
    "        optimizer_G.zero_grad()\n",
    "        z = Variable(Tensor(np.random.normal(0, 1,\n",
    "                                             (imgs.shape[0], latent_dim))))\n",
    "        gen_imgs = G(z)\n",
    "        g_loss = adversarial_loss(D(gen_imgs), real)\n",
    "        g_loss.backward()\n",
    "        optimizer_G.step()\n",
    "\n",
    "        ## Train Discriminator ##\n",
    "        optimizer_D.zero_grad()\n",
    "        real_loss = adversarial_loss(D(real_imgs), real)\n",
    "        fake_loss = adversarial_loss(D(gen_imgs.detach()), fake)\n",
    "        d_loss = (real_loss + fake_loss) / 2\n",
    "        d_loss.backward()\n",
    "        optimizer_D.step()\n",
    "\n",
    "    print(\"[Epoch %d/%d] [D loss: %f] [G loss: %f]\"\n",
    "          % ((epoch+1), epochs, d_loss.item(), g_loss.item()))\n",
    "    save_image(gen_imgs.data[:25], \"GAN_results/epoch_%d.png\"\n",
    "               %epoch, nrow=5, normalize=True)\n",
    "\n",
    "torch.save(G.state_dict(), './Generator.pth')\n",
    "torch.save(D.state_dict(), './Discriminator.pth')"
   ]
  },
  {
   "cell_type": "code",
   "execution_count": null,
   "id": "7b47e275",
   "metadata": {},
   "outputs": [],
   "source": []
  }
 ],
 "metadata": {
  "kernelspec": {
   "display_name": "vision2",
   "language": "python",
   "name": "vision_2"
  },
  "language_info": {
   "codemirror_mode": {
    "name": "ipython",
    "version": 3
   },
   "file_extension": ".py",
   "mimetype": "text/x-python",
   "name": "python",
   "nbconvert_exporter": "python",
   "pygments_lexer": "ipython3",
   "version": "3.11.5"
  }
 },
 "nbformat": 4,
 "nbformat_minor": 5
}
