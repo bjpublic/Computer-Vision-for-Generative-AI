{
 "cells": [
  {
   "cell_type": "code",
   "execution_count": 1,
   "metadata": {},
   "outputs": [],
   "source": [
    "## StyleGAN 깃허브 저장소 다운로드 링크 :\n",
    "# https://github.com/rosinality/stylegan2-pytorch/archive/refs/heads/master.zip"
   ]
  },
  {
   "cell_type": "code",
   "execution_count": null,
   "metadata": {},
   "outputs": [],
   "source": [
    "## StyleGAN 256x256 해상도 학습 모델 다운로드 링크\n",
    "# https://drive.google.com/file/d/1fOeBiMnda5bRzxkBedidY_bYv79t96D1/view?usp=drive_link"
   ]
  },
  {
   "cell_type": "code",
   "execution_count": null,
   "metadata": {},
   "outputs": [],
   "source": [
    "import os\n",
    "os.chdir('stylegan2-pytorch-master')\n",
    "\n",
    "import argparse\n",
    "import torch\n",
    "from torchvision import utils\n",
    "from tqdm import tqdm\n",
    "from model import Generator\n",
    "\n",
    "def generate(g_ema, device, mean_latent, pics, sample, latent, truncation, mean_latent):\n",
    "    with torch.no_grad():\n",
    "        g_ema.eval()\n",
    "        for i in tqdm(range(pics)):\n",
    "            sample_z = torch.randn(sample, latent, device=device)\n",
    "\n",
    "            sample, _ = g_ema(\n",
    "                [sample_z], truncation=truncation, truncation_latent=mean_latent\n",
    "            )\n",
    "\n",
    "            utils.save_image(\n",
    "                sample,\n",
    "                f\"sample/{str(i).zfill(6)}.png\",\n",
    "                nrow=1,\n",
    "                normalize=True,\n",
    "                range=(-1, 1),\n",
    "            )"
   ]
  },
  {
   "cell_type": "code",
   "execution_count": null,
   "metadata": {},
   "outputs": [],
   "source": [
    "device = torch.device(\"cuda\" if torch.cuda.is_available() else \"cpu\")\n",
    "img_size = 256\n",
    "sample = 3  \n",
    "pics = 5\n",
    "truncation = 1\n",
    "truncation_mean = 4096\n",
    "ckpt_path = 'StyleGAN2.pt'\n",
    "channel_multiplier = 2\n",
    "latent = 512\n",
    "n_mlp = 8\n",
    "\n",
    "g_ema = Generator(img_size, latent, n_mlp, \n",
    "                  channel_multiplier=channel_multiplier).to(device)\n",
    "checkpoint = torch.load(ckpt_path)\n",
    "\n",
    "g_ema.load_state_dict(checkpoint[\"g_ema\"], strict=False)\n",
    "\n",
    "if truncation < 1:\n",
    "    with torch.no_grad():\n",
    "        mean_latent = g_ema.mean_latent(truncation_mean)\n",
    "else:\n",
    "    mean_latent = None\n",
    "\n",
    "generate(g_ema, device, mean_latent, pics, sample, latent, truncation)"
   ]
  }
 ],
 "metadata": {
  "interpreter": {
   "hash": "78f961cc1adb1d23b163d13487a7bbea047622fac31372ac86f89c77664d2955"
  },
  "kernelspec": {
   "display_name": "gan",
   "language": "python",
   "name": "gan"
  },
  "language_info": {
   "codemirror_mode": {
    "name": "ipython",
    "version": 3
   },
   "file_extension": ".py",
   "mimetype": "text/x-python",
   "name": "python",
   "nbconvert_exporter": "python",
   "pygments_lexer": "ipython3",
   "version": "3.11.5"
  }
 },
 "nbformat": 4,
 "nbformat_minor": 2
}
