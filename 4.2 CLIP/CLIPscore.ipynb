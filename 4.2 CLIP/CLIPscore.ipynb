{
 "cells": [
  {
   "cell_type": "code",
   "execution_count": 19,
   "id": "283c3c90",
   "metadata": {},
   "outputs": [
    {
     "name": "stdout",
     "output_type": "stream",
     "text": [
      "CLIP score : 35.97840118408203\n",
      "CLIP score : 36.316490173339844\n",
      "CLIP score : 32.82335662841797\n",
      "CLIP score : 37.248619079589844\n",
      "CLIP score : 33.539310455322266\n"
     ]
    }
   ],
   "source": [
    "import torch\n",
    "from torchmetrics.multimodal.clip_score import CLIPScore\n",
    "import torchvision\n",
    "import glob\n",
    "\n",
    "metric = CLIPScore(model_name_or_path=\"openai/clip-vit-base-patch16\")\n",
    "\n",
    "img_path = glob.glob('./test_data/*.jpg')\n",
    "txt_path = glob.glob('./test_data/*.txt')\n",
    "\n",
    "for data_path in zip(img_path,txt_path):\n",
    "    img = torchvision.io.read_image(data_path[0])\n",
    "    f = open(data_path[1], 'r')\n",
    "    prompt = f.readline()\n",
    "    f.close()\n",
    "    score = metric(img, prompt)\n",
    "    print('CLIP score :', float(score))"
   ]
  },
  {
   "cell_type": "code",
   "execution_count": null,
   "id": "869c885e",
   "metadata": {},
   "outputs": [],
   "source": []
  }
 ],
 "metadata": {
  "kernelspec": {
   "display_name": "deblur",
   "language": "python",
   "name": "deblurgan"
  },
  "language_info": {
   "codemirror_mode": {
    "name": "ipython",
    "version": 3
   },
   "file_extension": ".py",
   "mimetype": "text/x-python",
   "name": "python",
   "nbconvert_exporter": "python",
   "pygments_lexer": "ipython3",
   "version": "3.11.5"
  }
 },
 "nbformat": 4,
 "nbformat_minor": 5
}
