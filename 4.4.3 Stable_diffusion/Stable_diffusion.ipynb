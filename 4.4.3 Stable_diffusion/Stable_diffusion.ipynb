{
 "cells": [
  {
   "cell_type": "code",
   "execution_count": 1,
   "id": "f1387d3b",
   "metadata": {},
   "outputs": [
    {
     "data": {
      "application/vnd.jupyter.widget-view+json": {
       "model_id": "3346f1c1abb4445f9e0abe9edcd0cc6a",
       "version_major": 2,
       "version_minor": 0
      },
      "text/plain": [
       "Loading pipeline components...:   0%|          | 0/7 [00:00<?, ?it/s]"
      ]
     },
     "metadata": {},
     "output_type": "display_data"
    },
    {
     "data": {
      "application/vnd.jupyter.widget-view+json": {
       "model_id": "8392300a20a945d5b549a8f7e6469419",
       "version_major": 2,
       "version_minor": 0
      },
      "text/plain": [
       "  0%|          | 0/50 [00:00<?, ?it/s]"
      ]
     },
     "metadata": {},
     "output_type": "display_data"
    },
    {
     "data": {
      "application/vnd.jupyter.widget-view+json": {
       "model_id": "a41be31791d74729a79c90b68653ffe3",
       "version_major": 2,
       "version_minor": 0
      },
      "text/plain": [
       "  0%|          | 0/50 [00:00<?, ?it/s]"
      ]
     },
     "metadata": {},
     "output_type": "display_data"
    },
    {
     "data": {
      "application/vnd.jupyter.widget-view+json": {
       "model_id": "f73c784cb0b74d9cbe8e75591c63c8dc",
       "version_major": 2,
       "version_minor": 0
      },
      "text/plain": [
       "  0%|          | 0/50 [00:00<?, ?it/s]"
      ]
     },
     "metadata": {},
     "output_type": "display_data"
    },
    {
     "data": {
      "application/vnd.jupyter.widget-view+json": {
       "model_id": "9c5367663e854afa9eb05d27b1046ecb",
       "version_major": 2,
       "version_minor": 0
      },
      "text/plain": [
       "  0%|          | 0/50 [00:00<?, ?it/s]"
      ]
     },
     "metadata": {},
     "output_type": "display_data"
    },
    {
     "data": {
      "application/vnd.jupyter.widget-view+json": {
       "model_id": "2b354246f7004dacb0a4b501055d6811",
       "version_major": 2,
       "version_minor": 0
      },
      "text/plain": [
       "  0%|          | 0/50 [00:00<?, ?it/s]"
      ]
     },
     "metadata": {},
     "output_type": "display_data"
    },
    {
     "data": {
      "application/vnd.jupyter.widget-view+json": {
       "model_id": "d69c8ff0c8fc4b4b8dc5c0978a309da8",
       "version_major": 2,
       "version_minor": 0
      },
      "text/plain": [
       "  0%|          | 0/50 [00:00<?, ?it/s]"
      ]
     },
     "metadata": {},
     "output_type": "display_data"
    }
   ],
   "source": [
    "## T2I 이미지 생성\n",
    "\n",
    "from diffusers import AutoPipelineForText2Image\n",
    "import torch\n",
    "\n",
    "pipe_T2I = AutoPipelineForText2Image.from_pretrained(\n",
    "    \"stabilityai/stable-diffusion-xl-base-1.0\", \n",
    "    torch_dtype=torch.float16, variant=\"fp16\",\n",
    "    use_safetensors=True,\n",
    ").to(\"cuda\")\n",
    "\n",
    "f = open('prompt.txt', 'r')\n",
    "prompts = f.readlines()\n",
    "f.close()\n",
    "\n",
    "for i, prompt in enumerate(prompts):\n",
    "    image = pipe_T2I(\n",
    "        prompt = prompt,\n",
    "        negative_prompt = 'low quality, worst quality, blurry',\n",
    "        num_images_per_prompt = 1,\n",
    "        num_inference_steps = 50,\n",
    "    ).images[0]\n",
    "\n",
    "    image.save('T2I_result{0:d}.png'.format(i+1))"
   ]
  },
  {
   "cell_type": "code",
   "execution_count": 7,
   "id": "747aeae7",
   "metadata": {},
   "outputs": [
    {
     "data": {
      "application/vnd.jupyter.widget-view+json": {
       "model_id": "6ca0c5457f284d1bbd9776ce55a729cc",
       "version_major": 2,
       "version_minor": 0
      },
      "text/plain": [
       "  0%|          | 0/35 [00:00<?, ?it/s]"
      ]
     },
     "metadata": {},
     "output_type": "display_data"
    },
    {
     "data": {
      "application/vnd.jupyter.widget-view+json": {
       "model_id": "a6db6e7b837a433ba9890782d29b578c",
       "version_major": 2,
       "version_minor": 0
      },
      "text/plain": [
       "  0%|          | 0/35 [00:00<?, ?it/s]"
      ]
     },
     "metadata": {},
     "output_type": "display_data"
    },
    {
     "data": {
      "application/vnd.jupyter.widget-view+json": {
       "model_id": "9b8cfcc720d04b66876d2f599f06a327",
       "version_major": 2,
       "version_minor": 0
      },
      "text/plain": [
       "  0%|          | 0/35 [00:00<?, ?it/s]"
      ]
     },
     "metadata": {},
     "output_type": "display_data"
    },
    {
     "data": {
      "application/vnd.jupyter.widget-view+json": {
       "model_id": "694de44ebea1483f88c4af8178589baf",
       "version_major": 2,
       "version_minor": 0
      },
      "text/plain": [
       "  0%|          | 0/35 [00:00<?, ?it/s]"
      ]
     },
     "metadata": {},
     "output_type": "display_data"
    },
    {
     "data": {
      "application/vnd.jupyter.widget-view+json": {
       "model_id": "b1ef0881cbc04f0ca00e7c068ab3ce66",
       "version_major": 2,
       "version_minor": 0
      },
      "text/plain": [
       "  0%|          | 0/35 [00:00<?, ?it/s]"
      ]
     },
     "metadata": {},
     "output_type": "display_data"
    },
    {
     "data": {
      "application/vnd.jupyter.widget-view+json": {
       "model_id": "5a93b5c5f733408f81d46c5237c9c420",
       "version_major": 2,
       "version_minor": 0
      },
      "text/plain": [
       "  0%|          | 0/35 [00:00<?, ?it/s]"
      ]
     },
     "metadata": {},
     "output_type": "display_data"
    }
   ],
   "source": [
    "## I2I 이미지 생성\n",
    "\n",
    "from diffusers import AutoPipelineForImage2Image\n",
    "from diffusers.utils import load_image, make_image_grid\n",
    "import glob\n",
    "\n",
    "pipe_I2I = AutoPipelineForImage2Image.from_pipe(pipe_T2I).to(\"cuda\")\n",
    "\n",
    "f = open('prompt.txt', 'r')\n",
    "prompts = f.readlines()\n",
    "f.close()\n",
    "\n",
    "image_path_list = glob.glob('./test_image/*')\n",
    "iter_num = 0\n",
    "for prompt, image_path in zip(prompts,image_path_list):\n",
    "    init_image = load_image(image_path)\n",
    "    iter_num+=1\n",
    "    image = pipe_I2I(\n",
    "        prompt, \n",
    "        negative_prompt = 'low quality, worst quality, blurry',\n",
    "        image=init_image,\n",
    "        strength = 0.7,\n",
    "        num_images_per_prompt = 1,\n",
    "        num_inference_steps = 50,\n",
    "        guidance_scale=8,\n",
    "    ).images[0]\n",
    "    image.save('I2I_result{0:d}.png'.format(iter_num))"
   ]
  },
  {
   "cell_type": "code",
   "execution_count": null,
   "id": "35c94dcb",
   "metadata": {},
   "outputs": [],
   "source": []
  }
 ],
 "metadata": {
  "kernelspec": {
   "display_name": "Python 3 (ipykernel)",
   "language": "python",
   "name": "python3"
  },
  "language_info": {
   "codemirror_mode": {
    "name": "ipython",
    "version": 3
   },
   "file_extension": ".py",
   "mimetype": "text/x-python",
   "name": "python",
   "nbconvert_exporter": "python",
   "pygments_lexer": "ipython3",
   "version": "3.11.5"
  }
 },
 "nbformat": 4,
 "nbformat_minor": 5
}
