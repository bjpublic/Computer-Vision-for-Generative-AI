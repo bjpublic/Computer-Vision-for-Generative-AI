{
 "cells": [
  {
   "cell_type": "code",
   "execution_count": 7,
   "id": "33e94b45",
   "metadata": {},
   "outputs": [],
   "source": [
    "import os\n",
    "import numpy as np\n",
    "import math\n",
    "import itertools\n",
    "import sys\n",
    "import torchvision.transforms as transforms\n",
    "from torchvision.utils import save_image, make_grid\n",
    "from torch.utils.data import DataLoader\n",
    "from torch.autograd import Variable\n",
    "from models import *\n",
    "from datasets import *\n",
    "import torch.nn as nn\n",
    "import torch.nn.functional as F\n",
    "import torch"
   ]
  },
  {
   "cell_type": "code",
   "execution_count": 2,
   "id": "0cbdaa1c",
   "metadata": {},
   "outputs": [],
   "source": [
    "os.makedirs(\"image\", exist_ok=True)\n",
    "os.makedirs(\"model\", exist_ok=True)\n",
    "\n",
    "n_epochs, decay_epoch = 100, 50\n",
    "dataset_name = \"img_align_celeba\"\n",
    "batch_size = 16\n",
    "hr_h, hr_w = 256, 256\n",
    "sample_interval = 1000"
   ]
  },
  {
   "cell_type": "code",
   "execution_count": 3,
   "id": "1b1247d1",
   "metadata": {},
   "outputs": [
    {
     "name": "stderr",
     "output_type": "stream",
     "text": [
      "C:\\Users\\chlwo\\anaconda3\\Lib\\site-packages\\torchvision\\models\\_utils.py:208: UserWarning: The parameter 'pretrained' is deprecated since 0.13 and may be removed in the future, please use 'weights' instead.\n",
      "  warnings.warn(\n",
      "C:\\Users\\chlwo\\anaconda3\\Lib\\site-packages\\torchvision\\models\\_utils.py:223: UserWarning: Arguments other than a weight enum or `None` for 'weights' are deprecated since 0.13 and may be removed in the future. The current behavior is equivalent to passing `weights=VGG19_Weights.IMAGENET1K_V1`. You can also use `weights=VGG19_Weights.DEFAULT` to get the most up-to-date weights.\n",
      "  warnings.warn(msg)\n"
     ]
    },
    {
     "name": "stdout",
     "output_type": "stream",
     "text": [
      "cuda\n"
     ]
    }
   ],
   "source": [
    "cuda = torch.cuda.is_available()\n",
    "\n",
    "hr_shape = (hr_h, hr_w)\n",
    "\n",
    "generator = GeneratorResNet()\n",
    "discriminator = Discriminator(input_shape=(3, *hr_shape))\n",
    "\n",
    "feature_extractor = FeatureExtractor()\n",
    "feature_extractor.eval()\n",
    "\n",
    "criterion_GAN = torch.nn.MSELoss()\n",
    "criterion_content = torch.nn.L1Loss()\n",
    "\n",
    "if cuda:\n",
    "    generator = generator.cuda()\n",
    "    discriminator = discriminator.cuda()\n",
    "    feature_extractor = feature_extractor.cuda()\n",
    "    criterion_GAN = criterion_GAN.cuda()\n",
    "    criterion_content = criterion_content.cuda()\n",
    "\n",
    "optimizer_G = torch.optim.Adam(generator.parameters(), \n",
    "                               lr=1e-4, betas=(0.5, 0.999))\n",
    "optimizer_D = torch.optim.Adam(discriminator.parameters(), \n",
    "                               lr=1e-4, betas=(0.5, 0.999))\n",
    "\n",
    "Tensor = torch.cuda.FloatTensor if cuda else torch.Tensor\n",
    "\n",
    "dataloader = DataLoader(\n",
    "    ImageDataset(\"./data/%s\" % dataset_name, hr_shape=hr_shape),\n",
    "    batch_size=batch_size,\n",
    "    shuffle=True,\n",
    "    num_workers=8,\n",
    ")"
   ]
  },
  {
   "cell_type": "code",
   "execution_count": null,
   "id": "470315d0",
   "metadata": {},
   "outputs": [],
   "source": [
    "for epoch in range(n_epochs):\n",
    "    for i, imgs in enumerate(dataloader):\n",
    "\n",
    "        imgs_lr = Variable(imgs[\"lr\"].type(Tensor))\n",
    "        imgs_hr = Variable(imgs[\"hr\"].type(Tensor))\n",
    "\n",
    "        valid = Variable(Tensor(np.ones((imgs_lr.size(0),*discriminator.output_shape))), requires_grad=False)\n",
    "        fake = Variable(Tensor(np.zeros((imgs_lr.size(0),*discriminator.output_shape))), requires_grad=False)\n",
    "\n",
    "        optimizer_G.zero_grad()\n",
    "\n",
    "        gen_hr = generator(imgs_lr)\n",
    "        gen_features = feature_extractor(gen_hr)\n",
    "        real_features = feature_extractor(imgs_hr)\n",
    "        \n",
    "        loss_GAN = criterion_GAN(discriminator(gen_hr), valid)\n",
    "        loss_content = criterion_content(gen_features, real_features.detach())\n",
    "        loss_G = loss_content + 1e-3 * loss_GAN\n",
    "        loss_G.backward()\n",
    "        optimizer_G.step()\n",
    "\n",
    "        optimizer_D.zero_grad()\n",
    "\n",
    "        loss_real = criterion_GAN(discriminator(imgs_hr), valid)\n",
    "        loss_fake = criterion_GAN(discriminator(gen_hr.detach()), fake)\n",
    "        loss_D = (loss_real + loss_fake) / 2\n",
    "        loss_D.backward()\n",
    "        optimizer_D.step()\n",
    "\n",
    "        sys.stdout.write(\n",
    "            \"\\r[Epoch %d/%d] [Batch %d/%d] [D loss: %f] [G loss: %f]\"\n",
    "            % (epoch, n_epochs, i, len(dataloader), loss_D.item(), loss_G.item())\n",
    "        )\n",
    "\n",
    "        batches_done = epoch * len(dataloader) + i\n",
    "        if batches_done % sample_interval == 0:\n",
    "            imgs_lr = nn.functional.interpolate(imgs_lr, scale_factor=4)\n",
    "            gen_hr = make_grid(gen_hr, nrow=1, normalize=True)\n",
    "            imgs_lr = make_grid(imgs_lr, nrow=1, normalize=True)\n",
    "            img_grid = torch.cat((imgs_lr, gen_hr), -1)\n",
    "            save_image(img_grid, \"image/%d.png\" % batches_done, normalize=False)\n",
    "\n",
    "torch.save(generator.state_dict(), \"model/G_%d.pth\" % epoch)\n",
    "torch.save(discriminator.state_dict(), \"model/D_%d.pth\" % epoch)"
   ]
  },
  {
   "cell_type": "code",
   "execution_count": null,
   "id": "3cb21a82",
   "metadata": {},
   "outputs": [],
   "source": [
    "# 사전학습 모델 체크포인트 다운로드 링크 :\n",
    "# drive.google.com/file/d/1GnATGVD6Aba4g7DE9Ohc9B7_Iz1KRi0i/view"
   ]
  },
  {
   "cell_type": "code",
   "execution_count": 10,
   "id": "28cecaf2",
   "metadata": {},
   "outputs": [],
   "source": [
    "load_epoch = 100\n",
    "num_test = 10\n",
    "\n",
    "generator.load_state_dict(torch.load(\"model/G_%d.pth\" % load_epoch))\n",
    "\n",
    "for i, imgs in enumerate(dataloader):\n",
    "    if i == num_test :\n",
    "        break\n",
    "        \n",
    "    imgs_lr = Variable(imgs[\"lr\"].type(Tensor))\n",
    "    imgs_hr = Variable(imgs[\"hr\"].type(Tensor))\n",
    "    \n",
    "    gen_hr = generator(imgs_lr)\n",
    "    imgs_lr = nn.functional.interpolate(imgs_lr, scale_factor=4)\n",
    "    gen_hr = make_grid(gen_hr, nrow=1, normalize=True)\n",
    "    \n",
    "    imgs_lr = make_grid(imgs_lr, nrow=1, normalize=True)\n",
    "    img_grid = torch.cat((imgs_lr, gen_hr), -1)\n",
    "    save_image(img_grid, \"image/result_%d.png\" % i, normalize=False)\n"
   ]
  },
  {
   "cell_type": "code",
   "execution_count": null,
   "id": "d6d79f37",
   "metadata": {},
   "outputs": [],
   "source": []
  }
 ],
 "metadata": {
  "kernelspec": {
   "display_name": "srgan",
   "language": "python",
   "name": "srgan"
  },
  "language_info": {
   "codemirror_mode": {
    "name": "ipython",
    "version": 3
   },
   "file_extension": ".py",
   "mimetype": "text/x-python",
   "name": "python",
   "nbconvert_exporter": "python",
   "pygments_lexer": "ipython3",
   "version": "3.11.5"
  }
 },
 "nbformat": 4,
 "nbformat_minor": 5
}
